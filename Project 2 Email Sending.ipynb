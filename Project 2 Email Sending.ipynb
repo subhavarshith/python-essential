{
 "cells": [
  {
   "cell_type": "code",
   "execution_count": 4,
   "metadata": {},
   "outputs": [],
   "source": [
    "import emails"
   ]
  },
  {
   "cell_type": "code",
   "execution_count": 5,
   "metadata": {},
   "outputs": [],
   "source": [
    "def sendMail(email, name):\n",
    "    html_text = '''<p><span style='font-family: \"Trebuchet MS\", Helvetica, sans-serif;'>Hey'''+name+'''</span></p>''''''\n",
    "                    <p><span style=\"font-family: 'Trebuchet MS', Helvetica, sans-serif;\">This is an email sent to you using python...</span></p>\n",
    "                    <p><span style='font-family: \"Trebuchet MS\", Helvetica, sans-serif;'>Have a great day</span></p>'''\n",
    "\n",
    "    subject = \"Hello\"+ name\n",
    "    message = emails.html(html = html_text,\n",
    "                          subject = subject,\n",
    "                          mail_from = ('subhavarshith', 'mohansmarty1@gmail.com'))\n",
    "\n",
    "    \n",
    "    mail_via_python = message.send(to = email, \n",
    "                               smtp = {'host': 'smtp.gmail.com', \n",
    "                                     'timeout': 5,\n",
    "                                    'port':587,\n",
    "                                    'user':'mohansmarty1@gmail.com',\n",
    "                                    'password':'Subha@123',\n",
    "                                    'tls':True})\n",
    "    return mail_via_python.status_code"
   ]
  },
  {
   "cell_type": "code",
   "execution_count": 6,
   "metadata": {},
   "outputs": [],
   "source": [
    "sendMail(\"vinayvarshith1@gmail.com\",\"test abc\")"
   ]
  },
  {
   "cell_type": "code",
   "execution_count": null,
   "metadata": {},
   "outputs": [],
   "source": []
  }
 ],
 "metadata": {
  "kernelspec": {
   "display_name": "Python 3",
   "language": "python",
   "name": "python3"
  },
  "language_info": {
   "codemirror_mode": {
    "name": "ipython",
    "version": 3
   },
   "file_extension": ".py",
   "mimetype": "text/x-python",
   "name": "python",
   "nbconvert_exporter": "python",
   "pygments_lexer": "ipython3",
   "version": "3.7.4"
  }
 },
 "nbformat": 4,
 "nbformat_minor": 2
}
