{
 "cells": [
  {
   "cell_type": "code",
   "execution_count": 3,
   "metadata": {},
   "outputs": [],
   "source": [
    "from cryptography.fernet import Fernet"
   ]
  },
  {
   "cell_type": "code",
   "execution_count": 6,
   "metadata": {},
   "outputs": [
    {
     "name": "stdout",
     "output_type": "stream",
     "text": [
      "Hello guys tell about yourselfMy name is varshith\n",
      "Message :  b'gAAAAABf3J8IlZoJNFkYG0_0_eXgk906uLjEPmZXmNNdRglSDRY7dGs1hZNq9-0BnA1RPUrjEFLSXoEMcH4xzP8-hJzx50h_ieNBiBT21M3UeEt85RKCCZk='\n"
     ]
    }
   ],
   "source": [
    "def getPasswordKey():\n",
    "    key = Fernet.generate_key()\n",
    "    a = open(\"password.key\",\"wb\")\n",
    "    a.write(key)\n",
    "    a.close()\n",
    "    \n",
    "    \n",
    "def Mykey():\n",
    "    a = open(\"password.key\",\"rb\")\n",
    "    return a.read()\n",
    "\n",
    "\n",
    "def encrypt_message(message):\n",
    "    getPasswordKey()\n",
    "    key = Mykey()\n",
    "    e_message = message.encode()\n",
    "    f = Fernet(key)\n",
    "    encrypt_message = f.encrypt(e_message)\n",
    "    print(\"Message : \", encrypt_message)\n",
    "    \n",
    "s = input(\"Hello guys tell about yourself\")\n",
    "encrypt_message(s)\n"
   ]
  },
  {
   "cell_type": "code",
   "execution_count": 9,
   "metadata": {},
   "outputs": [
    {
     "name": "stdout",
     "output_type": "stream",
     "text": [
      "Result is -> My name is varshith\n"
     ]
    }
   ],
   "source": [
    "def decrypt_message(encrypt_message):\n",
    "    key = Mykey()\n",
    "    f = Fernet(key)\n",
    "    decrypted_message = f.decrypt(encrypt_message)\n",
    "    print(\"Result is ->\", decrypted_message.decode())\n",
    "decrypt_message(b'gAAAAABf3J8IlZoJNFkYG0_0_eXgk906uLjEPmZXmNNdRglSDRY7dGs1hZNq9-0BnA1RPUrjEFLSXoEMcH4xzP8-hJzx50h_ieNBiBT21M3UeEt85RKCCZk=')"
   ]
  }
 ],
 "metadata": {
  "kernelspec": {
   "display_name": "Python 3",
   "language": "python",
   "name": "python3"
  },
  "language_info": {
   "codemirror_mode": {
    "name": "ipython",
    "version": 3
   },
   "file_extension": ".py",
   "mimetype": "text/x-python",
   "name": "python",
   "nbconvert_exporter": "python",
   "pygments_lexer": "ipython3",
   "version": "3.7.4"
  }
 },
 "nbformat": 4,
 "nbformat_minor": 2
}
